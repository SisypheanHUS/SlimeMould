{
 "cells": [
  {
   "cell_type": "markdown",
   "metadata": {},
   "source": [
    "## Import libraries"
   ]
  },
  {
   "cell_type": "code",
   "metadata": {
    "ExecuteTime": {
     "end_time": "2024-12-18T08:42:38.619051Z",
     "start_time": "2024-12-18T08:42:38.604186Z"
    }
   },
   "source": [
    "import warnings\n",
    "warnings.filterwarnings(\"ignore\")\n",
    "import matplotlib.pyplot as plt\n",
    "import numpy as np\n",
    "import geopandas as gpd\n",
    "import networkx as nx\n",
    "import math\n",
    "from empiricaldist import Pmf\n",
    "import random\n",
    "from collections import deque\n",
    "from matplotlib.animation import FuncAnimation, PillowWriter\n",
    "import pandas as pd\n",
    "import os\n",
    "\n",
    "if not os.path.exists(os.getcwd()+ '\\\\output'):\n",
    "    os.makedirs(os.getcwd()+'\\\\output')"
   ],
   "outputs": [],
   "execution_count": 33
  },
  {
   "cell_type": "markdown",
   "metadata": {},
   "source": [
    "## Util Functions"
   ]
  },
  {
   "cell_type": "code",
   "metadata": {
    "ExecuteTime": {
     "end_time": "2024-12-18T08:42:39.239299Z",
     "start_time": "2024-12-18T08:42:39.212077Z"
    }
   },
   "source": [
    "def degrees(G):\n",
    "    \"\"\"Trả về danh sách bậc (số cạnh) của từng đỉnh trong đồ thị G.\n",
    "\n",
    "    G: Đối tượng đồ thị\n",
    "\n",
    "    Kết quả: Danh sách các số nguyên tương ứng với bậc của các đỉnh.\n",
    "    \"\"\"\n",
    "    return [G.degree(u) for u in G]\n",
    "\n",
    "def all_pairs(nodes):\n",
    "    \"\"\"Tạo tất cả cặp đỉnh từ danh sách các đỉnh.\n",
    "\n",
    "    nodes: Danh sách các đỉnh trong đồ thị.\n",
    "    \n",
    "    Kết quả: Từng cặp đỉnh (u, v) với điều kiện u < v (không lặp lại và không đối xứng).\n",
    "    \"\"\"\n",
    "    for i, u in enumerate(nodes):\n",
    "        for j, v in enumerate(nodes):\n",
    "            if i < j:\n",
    "                yield u, v\n",
    "\n",
    "def node_clustering(G, u):\n",
    "    \"\"\"Tính hệ số cụm (clustering coefficient) của một đỉnh u trong đồ thị G.\n",
    "\n",
    "    G: Đồ thị\n",
    "    u: Đỉnh cần tính hệ số cụm\n",
    "    \n",
    "    Kết quả: Hệ số cụm của đỉnh u.\n",
    "    \"\"\"\n",
    "    neighbors = G[u]  # Lấy các đỉnh láng giềng của u\n",
    "    k = len(neighbors)  # Đếm số đỉnh láng giềng\n",
    "    if k < 2:  # Nếu có ít hơn 2 đỉnh láng giềng, không thể tạo tam giác\n",
    "        return np.nan\n",
    "\n",
    "    # Kiểm tra xem các đỉnh láng giềng có liên kết với nhau không (cặp đôi)\n",
    "    edges = [G.has_edge(v, w) for v, w in all_pairs(neighbors)]\n",
    "    return np.mean(edges)  # Tính trung bình các cạnh giữa láng giềng\n",
    "\n",
    "def clustering_coefficient(G):\n",
    "    \"\"\"Tính hệ số cụm trung bình của tất cả các đỉnh trong đồ thị G.\n",
    "\n",
    "    G: Đồ thị\n",
    "    \n",
    "    Kết quả: Hệ số cụm trung bình (loại bỏ giá trị NaN).\n",
    "    \"\"\"\n",
    "    cu = [node_clustering(G, node) for node in G]\n",
    "    return np.nanmean(cu)\n",
    "\n",
    "def path_lengths(G):\n",
    "    \"\"\"Tạo tất cả khoảng cách ngắn nhất giữa các cặp đỉnh trong đồ thị G.\n",
    "\n",
    "    G: Đồ thị\n",
    "    \n",
    "    Kết quả: Khoảng cách ngắn nhất giữa từng cặp đỉnh.\n",
    "    \"\"\"\n",
    "    length_iter = nx.shortest_path_length(G)  # Tính khoảng cách ngắn nhất\n",
    "    for source, dist_map in length_iter:\n",
    "        for dest, dist in dist_map.items():\n",
    "            if source != dest:  # Loại bỏ khoảng cách từ đỉnh đến chính nó\n",
    "                yield dist\n",
    "\n",
    "def characteristic_path_length(G):\n",
    "    \"\"\"Tính độ dài đường đi đặc trưng (độ dài trung bình của tất cả đường đi ngắn nhất).\n",
    "\n",
    "    G: Đồ thị\n",
    "    \n",
    "    Kết quả: Độ dài đường đi đặc trưng (số thực).\n",
    "    \"\"\"\n",
    "    return np.mean(list(path_lengths(G)))\n",
    "\n",
    "def savefig(filename, **options):\n",
    "    \"\"\"Lưu hình vẽ hiện tại vào file.\n",
    "\n",
    "    filename: Tên file (chuỗi ký tự)\n",
    "    options: Tham số tùy chọn cho hàm plt.savefig\n",
    "    \"\"\"\n",
    "    print(\"Lưu hình vào file\", filename)\n",
    "    plt.savefig(filename, **options)\n",
    "\n",
    "def underride(d, **options):\n",
    "    \"\"\"Thêm các cặp key-value vào từ điển `d` nếu key chưa tồn tại.\n",
    "\n",
    "    d: Từ điển\n",
    "    options: Các tham số key-value cần thêm\n",
    "    \n",
    "    Kết quả: Từ điển đã cập nhật.\n",
    "    \"\"\"\n",
    "    for key, val in options.items():\n",
    "        d.setdefault(key, val)\n",
    "\n",
    "    return d\n",
    "\n",
    "def legend(**options):\n",
    "    \"\"\"Vẽ chú thích (legend) nếu có ít nhất một mục có nhãn.\n",
    "\n",
    "    options: Tham số tùy chọn cho hàm plt.legend.\n",
    "    \"\"\"\n",
    "    underride(options, loc=\"best\", frameon=False)\n",
    "\n",
    "    ax = plt.gca()  # Lấy trục hiện tại\n",
    "    handles, labels = ax.get_legend_handles_labels()\n",
    "    if handles:  # Chỉ vẽ legend nếu có mục nhãn\n",
    "        ax.legend(handles, labels, **options)\n",
    "\n",
    "def decorate(**options):\n",
    "    \"\"\"Trang trí biểu đồ hiện tại với các thông số như tiêu đề, nhãn trục và chú thích.\n",
    "\n",
    "    Tham số:\n",
    "    - title: Tiêu đề của biểu đồ\n",
    "    - xlabel, ylabel: Nhãn của trục x và y\n",
    "    - legend: Hiển thị chú thích (mặc định True)\n",
    "    - loc: Vị trí của chú thích (mặc định 'best')\n",
    "    \"\"\"\n",
    "    loc = options.pop(\"loc\", \"best\")\n",
    "    if options.pop(\"legend\", True):\n",
    "        legend(loc=loc)  # Gọi hàm legend\n",
    "\n",
    "    plt.gca().set(**options)  # Cập nhật trục hiện tại với các thông số\n",
    "    plt.tight_layout()  # Sắp xếp lại bố cục để tránh trùng lặp\n"
   ],
   "outputs": [],
   "execution_count": 34
  },
  {
   "cell_type": "markdown",
   "metadata": {},
   "source": [
    "## Load and preprocess the dataset "
   ]
  },
  {
   "cell_type": "code",
   "metadata": {
    "pycharm": {
     "is_executing": true
    },
    "ExecuteTime": {
     "end_time": "2024-12-18T08:42:39.747121Z",
     "start_time": "2024-12-18T08:42:39.715445Z"
    }
   },
   "source": [
    "stations = gpd.read_file('hanoi_nodes.geojson')\n",
    "routes = gpd.read_file('hanoi_edges.geojson')\n",
    "stations"
   ],
   "outputs": [
    {
     "data": {
      "text/plain": [
       "            name       name                     geometry\n",
       "0       Yên Viên        None  POINT (105.91553 21.08581)\n",
       "1      Yên Nghĩa        None   POINT (105.74812 20.9497)\n",
       "2         Hà Nội        None  POINT (105.84107 21.02521)\n",
       "3       Văn Quán        None    POINT (105.7848 20.9779)\n",
       "4        Văn Khê        None  POINT (105.75613 20.95591)\n",
       "5       Văn Điển        None   POINT (105.84423 20.9444)\n",
       "6        Thái Hà        None  POINT (105.81951 21.01476)\n",
       "7   Phùng Khoang        None  POINT (105.79312 20.98448)\n",
       "8    Phú Diễn(1)        None   POINT (105.76491 21.0517)\n",
       "9      Minh Khai        None  POINT (105.74486 21.04816)\n",
       "10          Láng        None  POINT (105.81606 21.00686)\n",
       "11      La Thành        None  POINT (105.82509 21.02043)\n",
       "12        La Khê        None  POINT (105.76676 20.96419)\n",
       "13      Giáp Bát        None   POINT (105.84041 20.9791)\n",
       "14       Gia Lâm        None  POINT (105.87877 21.05165)\n",
       "15          ĐHQG        None  POINT (105.78273 21.03684)\n",
       "16       Chùa Hà        None  POINT (105.79424 21.03514)\n",
       "17      Cầu Giấy        None  POINT (105.80327 21.02937)\n",
       "18      Cầu Diễn        None  POINT (105.76276 21.04151)\n",
       "19   Thượng Đình        None  POINT (105.81232 20.99792)\n",
       "20        Kim Mã        None  POINT (105.81394 21.03088)\n",
       "21    Hà Đông(1)        None  POINT (105.76037 20.95287)\n",
       "22          None  Hà Đông(2)  POINT (105.77493 20.97019)\n",
       "23     Long Biên        None  POINT (105.84999 21.03992)\n",
       "24          None    Cát Linh  POINT (105.82728 21.02838)\n",
       "25   Phú Diễn(2)        None   POINT (105.75525 21.0439)\n",
       "26          None        Nhổn   POINT (105.73527 21.0526)\n",
       "27          None     Cầu Bây  POINT (105.91834 21.02843)\n",
       "28        Kim Nỗ        None  POINT (105.79017 21.14271)"
      ],
      "text/html": [
       "<div>\n",
       "<style scoped>\n",
       "    .dataframe tbody tr th:only-of-type {\n",
       "        vertical-align: middle;\n",
       "    }\n",
       "\n",
       "    .dataframe tbody tr th {\n",
       "        vertical-align: top;\n",
       "    }\n",
       "\n",
       "    .dataframe thead th {\n",
       "        text-align: right;\n",
       "    }\n",
       "</style>\n",
       "<table border=\"1\" class=\"dataframe\">\n",
       "  <thead>\n",
       "    <tr style=\"text-align: right;\">\n",
       "      <th></th>\n",
       "      <th>name</th>\n",
       "      <th>name</th>\n",
       "      <th>geometry</th>\n",
       "    </tr>\n",
       "  </thead>\n",
       "  <tbody>\n",
       "    <tr>\n",
       "      <th>0</th>\n",
       "      <td>Yên Viên</td>\n",
       "      <td>None</td>\n",
       "      <td>POINT (105.91553 21.08581)</td>\n",
       "    </tr>\n",
       "    <tr>\n",
       "      <th>1</th>\n",
       "      <td>Yên Nghĩa</td>\n",
       "      <td>None</td>\n",
       "      <td>POINT (105.74812 20.9497)</td>\n",
       "    </tr>\n",
       "    <tr>\n",
       "      <th>2</th>\n",
       "      <td>Hà Nội</td>\n",
       "      <td>None</td>\n",
       "      <td>POINT (105.84107 21.02521)</td>\n",
       "    </tr>\n",
       "    <tr>\n",
       "      <th>3</th>\n",
       "      <td>Văn Quán</td>\n",
       "      <td>None</td>\n",
       "      <td>POINT (105.7848 20.9779)</td>\n",
       "    </tr>\n",
       "    <tr>\n",
       "      <th>4</th>\n",
       "      <td>Văn Khê</td>\n",
       "      <td>None</td>\n",
       "      <td>POINT (105.75613 20.95591)</td>\n",
       "    </tr>\n",
       "    <tr>\n",
       "      <th>5</th>\n",
       "      <td>Văn Điển</td>\n",
       "      <td>None</td>\n",
       "      <td>POINT (105.84423 20.9444)</td>\n",
       "    </tr>\n",
       "    <tr>\n",
       "      <th>6</th>\n",
       "      <td>Thái Hà</td>\n",
       "      <td>None</td>\n",
       "      <td>POINT (105.81951 21.01476)</td>\n",
       "    </tr>\n",
       "    <tr>\n",
       "      <th>7</th>\n",
       "      <td>Phùng Khoang</td>\n",
       "      <td>None</td>\n",
       "      <td>POINT (105.79312 20.98448)</td>\n",
       "    </tr>\n",
       "    <tr>\n",
       "      <th>8</th>\n",
       "      <td>Phú Diễn(1)</td>\n",
       "      <td>None</td>\n",
       "      <td>POINT (105.76491 21.0517)</td>\n",
       "    </tr>\n",
       "    <tr>\n",
       "      <th>9</th>\n",
       "      <td>Minh Khai</td>\n",
       "      <td>None</td>\n",
       "      <td>POINT (105.74486 21.04816)</td>\n",
       "    </tr>\n",
       "    <tr>\n",
       "      <th>10</th>\n",
       "      <td>Láng</td>\n",
       "      <td>None</td>\n",
       "      <td>POINT (105.81606 21.00686)</td>\n",
       "    </tr>\n",
       "    <tr>\n",
       "      <th>11</th>\n",
       "      <td>La Thành</td>\n",
       "      <td>None</td>\n",
       "      <td>POINT (105.82509 21.02043)</td>\n",
       "    </tr>\n",
       "    <tr>\n",
       "      <th>12</th>\n",
       "      <td>La Khê</td>\n",
       "      <td>None</td>\n",
       "      <td>POINT (105.76676 20.96419)</td>\n",
       "    </tr>\n",
       "    <tr>\n",
       "      <th>13</th>\n",
       "      <td>Giáp Bát</td>\n",
       "      <td>None</td>\n",
       "      <td>POINT (105.84041 20.9791)</td>\n",
       "    </tr>\n",
       "    <tr>\n",
       "      <th>14</th>\n",
       "      <td>Gia Lâm</td>\n",
       "      <td>None</td>\n",
       "      <td>POINT (105.87877 21.05165)</td>\n",
       "    </tr>\n",
       "    <tr>\n",
       "      <th>15</th>\n",
       "      <td>ĐHQG</td>\n",
       "      <td>None</td>\n",
       "      <td>POINT (105.78273 21.03684)</td>\n",
       "    </tr>\n",
       "    <tr>\n",
       "      <th>16</th>\n",
       "      <td>Chùa Hà</td>\n",
       "      <td>None</td>\n",
       "      <td>POINT (105.79424 21.03514)</td>\n",
       "    </tr>\n",
       "    <tr>\n",
       "      <th>17</th>\n",
       "      <td>Cầu Giấy</td>\n",
       "      <td>None</td>\n",
       "      <td>POINT (105.80327 21.02937)</td>\n",
       "    </tr>\n",
       "    <tr>\n",
       "      <th>18</th>\n",
       "      <td>Cầu Diễn</td>\n",
       "      <td>None</td>\n",
       "      <td>POINT (105.76276 21.04151)</td>\n",
       "    </tr>\n",
       "    <tr>\n",
       "      <th>19</th>\n",
       "      <td>Thượng Đình</td>\n",
       "      <td>None</td>\n",
       "      <td>POINT (105.81232 20.99792)</td>\n",
       "    </tr>\n",
       "    <tr>\n",
       "      <th>20</th>\n",
       "      <td>Kim Mã</td>\n",
       "      <td>None</td>\n",
       "      <td>POINT (105.81394 21.03088)</td>\n",
       "    </tr>\n",
       "    <tr>\n",
       "      <th>21</th>\n",
       "      <td>Hà Đông(1)</td>\n",
       "      <td>None</td>\n",
       "      <td>POINT (105.76037 20.95287)</td>\n",
       "    </tr>\n",
       "    <tr>\n",
       "      <th>22</th>\n",
       "      <td>None</td>\n",
       "      <td>Hà Đông(2)</td>\n",
       "      <td>POINT (105.77493 20.97019)</td>\n",
       "    </tr>\n",
       "    <tr>\n",
       "      <th>23</th>\n",
       "      <td>Long Biên</td>\n",
       "      <td>None</td>\n",
       "      <td>POINT (105.84999 21.03992)</td>\n",
       "    </tr>\n",
       "    <tr>\n",
       "      <th>24</th>\n",
       "      <td>None</td>\n",
       "      <td>Cát Linh</td>\n",
       "      <td>POINT (105.82728 21.02838)</td>\n",
       "    </tr>\n",
       "    <tr>\n",
       "      <th>25</th>\n",
       "      <td>Phú Diễn(2)</td>\n",
       "      <td>None</td>\n",
       "      <td>POINT (105.75525 21.0439)</td>\n",
       "    </tr>\n",
       "    <tr>\n",
       "      <th>26</th>\n",
       "      <td>None</td>\n",
       "      <td>Nhổn</td>\n",
       "      <td>POINT (105.73527 21.0526)</td>\n",
       "    </tr>\n",
       "    <tr>\n",
       "      <th>27</th>\n",
       "      <td>None</td>\n",
       "      <td>Cầu Bây</td>\n",
       "      <td>POINT (105.91834 21.02843)</td>\n",
       "    </tr>\n",
       "    <tr>\n",
       "      <th>28</th>\n",
       "      <td>Kim Nỗ</td>\n",
       "      <td>None</td>\n",
       "      <td>POINT (105.79017 21.14271)</td>\n",
       "    </tr>\n",
       "  </tbody>\n",
       "</table>\n",
       "</div>"
      ]
     },
     "execution_count": 35,
     "metadata": {},
     "output_type": "execute_result"
    }
   ],
   "execution_count": 35
  },
  {
   "cell_type": "markdown",
   "metadata": {},
   "source": [
    "### Preprocess nodes"
   ]
  },
  {
   "cell_type": "code",
   "metadata": {
    "pycharm": {
     "is_executing": true
    },
    "ExecuteTime": {
     "end_time": "2024-12-18T08:42:40.475651Z",
     "start_time": "2024-12-18T08:42:40.432146Z"
    }
   },
   "source": [
    "# Trích xuất tọa độ kinh độ (longitude) và vĩ độ (latitude) từ cột 'geometry'\n",
    "stations['lon'], stations['lat'] = stations.geometry.x, stations.geometry.y\n",
    "\n",
    "# Thêm một cột giá trị mặc định là 4 (giả sử đây là giá trị cho các trạm)\n",
    "stations['value'] = 4\n",
    "\n",
    "# Xác định kinh độ và vĩ độ nhỏ nhất từ dữ liệu\n",
    "min_lon = min(stations['lon'])  # Kinh độ nhỏ nhất\n",
    "min_lat = min(stations['lat'])  # Vĩ độ nhỏ nhất\n",
    "\n",
    "# Chuẩn hóa và chuyển đổi giá trị kinh độ sang tọa độ x (scaling lon -> x)\n",
    "stations['x'] = stations.lon.apply(lambda x: int((x - min_lon) * (10**3)))\n",
    "\n",
    "# Chuẩn hóa và chuyển đổi giá trị vĩ độ sang tọa độ y (scaling lat -> y)\n",
    "stations['y'] = stations.lat.apply(lambda y: int((y - min_lat) * (10**3)))\n",
    "\n",
    "# **Bước lọc dữ liệu nếu cần (đã comment sẵn):**\n",
    "# Chỉ giữ lại các trạm nằm trong khoảng giá trị tọa độ x và y cụ thể\n",
    "# stations = stations[((stations['x']>150) & (stations['x']<500)) & ((stations['y']>530) & (stations['y']<800))]\n",
    "\n",
    "# Tìm giá trị x và y nhỏ nhất sau khi chuẩn hóa\n",
    "min_x = min(stations['x'])  # Giá trị x nhỏ nhất\n",
    "min_y = min(stations['y'])  # Giá trị y nhỏ nhất\n",
    "\n",
    "# Dịch chuyển tọa độ x để bắt đầu từ 10 (đảm bảo giá trị x không bị âm)\n",
    "stations['x'] = stations.x.apply(lambda x: int(x - min_x) + 10)\n",
    "\n",
    "# Dịch chuyển tọa độ y để bắt đầu từ 10 (đảm bảo giá trị y không bị âm)\n",
    "stations['y'] = stations.y.apply(lambda y: int(y - min_y) + 10)\n",
    "\n",
    "# Kết hợp tọa độ x và y thành tuple (điểm dạng (x, y)) và lưu vào cột 'nodes'\n",
    "stations['nodes'] = stations[['x', 'y']].apply(tuple, axis=1)\n",
    "\n",
    "# Loại bỏ các trạm trùng nhau dựa trên cột 'nodes'\n",
    "stations = stations.drop_duplicates(subset=['nodes'])\n",
    "\n",
    "# Hiển thị 5 dòng đầu tiên của bảng dữ liệu\n",
    "stations.head()\n"
   ],
   "outputs": [
    {
     "data": {
      "text/plain": [
       "        name name                     geometry         lon        lat  value  \\\n",
       "0   Yên Viên  None  POINT (105.91553 21.08581)  105.915532  21.085809      4   \n",
       "1  Yên Nghĩa  None   POINT (105.74812 20.9497)  105.748116  20.949705      4   \n",
       "2     Hà Nội  None  POINT (105.84107 21.02521)  105.841074  21.025205      4   \n",
       "3   Văn Quán  None    POINT (105.7848 20.9779)  105.784805  20.977901      4   \n",
       "4    Văn Khê  None  POINT (105.75613 20.95591)  105.756127  20.955915      4   \n",
       "\n",
       "     x    y       nodes  \n",
       "0  190  151  (190, 151)  \n",
       "1   22   15    (22, 15)  \n",
       "2  115   90   (115, 90)  \n",
       "3   59   43    (59, 43)  \n",
       "4   30   21    (30, 21)  "
      ],
      "text/html": [
       "<div>\n",
       "<style scoped>\n",
       "    .dataframe tbody tr th:only-of-type {\n",
       "        vertical-align: middle;\n",
       "    }\n",
       "\n",
       "    .dataframe tbody tr th {\n",
       "        vertical-align: top;\n",
       "    }\n",
       "\n",
       "    .dataframe thead th {\n",
       "        text-align: right;\n",
       "    }\n",
       "</style>\n",
       "<table border=\"1\" class=\"dataframe\">\n",
       "  <thead>\n",
       "    <tr style=\"text-align: right;\">\n",
       "      <th></th>\n",
       "      <th>name</th>\n",
       "      <th>name</th>\n",
       "      <th>geometry</th>\n",
       "      <th>lon</th>\n",
       "      <th>lat</th>\n",
       "      <th>value</th>\n",
       "      <th>x</th>\n",
       "      <th>y</th>\n",
       "      <th>nodes</th>\n",
       "    </tr>\n",
       "  </thead>\n",
       "  <tbody>\n",
       "    <tr>\n",
       "      <th>0</th>\n",
       "      <td>Yên Viên</td>\n",
       "      <td>None</td>\n",
       "      <td>POINT (105.91553 21.08581)</td>\n",
       "      <td>105.915532</td>\n",
       "      <td>21.085809</td>\n",
       "      <td>4</td>\n",
       "      <td>190</td>\n",
       "      <td>151</td>\n",
       "      <td>(190, 151)</td>\n",
       "    </tr>\n",
       "    <tr>\n",
       "      <th>1</th>\n",
       "      <td>Yên Nghĩa</td>\n",
       "      <td>None</td>\n",
       "      <td>POINT (105.74812 20.9497)</td>\n",
       "      <td>105.748116</td>\n",
       "      <td>20.949705</td>\n",
       "      <td>4</td>\n",
       "      <td>22</td>\n",
       "      <td>15</td>\n",
       "      <td>(22, 15)</td>\n",
       "    </tr>\n",
       "    <tr>\n",
       "      <th>2</th>\n",
       "      <td>Hà Nội</td>\n",
       "      <td>None</td>\n",
       "      <td>POINT (105.84107 21.02521)</td>\n",
       "      <td>105.841074</td>\n",
       "      <td>21.025205</td>\n",
       "      <td>4</td>\n",
       "      <td>115</td>\n",
       "      <td>90</td>\n",
       "      <td>(115, 90)</td>\n",
       "    </tr>\n",
       "    <tr>\n",
       "      <th>3</th>\n",
       "      <td>Văn Quán</td>\n",
       "      <td>None</td>\n",
       "      <td>POINT (105.7848 20.9779)</td>\n",
       "      <td>105.784805</td>\n",
       "      <td>20.977901</td>\n",
       "      <td>4</td>\n",
       "      <td>59</td>\n",
       "      <td>43</td>\n",
       "      <td>(59, 43)</td>\n",
       "    </tr>\n",
       "    <tr>\n",
       "      <th>4</th>\n",
       "      <td>Văn Khê</td>\n",
       "      <td>None</td>\n",
       "      <td>POINT (105.75613 20.95591)</td>\n",
       "      <td>105.756127</td>\n",
       "      <td>20.955915</td>\n",
       "      <td>4</td>\n",
       "      <td>30</td>\n",
       "      <td>21</td>\n",
       "      <td>(30, 21)</td>\n",
       "    </tr>\n",
       "  </tbody>\n",
       "</table>\n",
       "</div>"
      ]
     },
     "execution_count": 36,
     "metadata": {},
     "output_type": "execute_result"
    }
   ],
   "execution_count": 36
  },
  {
   "cell_type": "markdown",
   "metadata": {},
   "source": [
    "\n",
    "### Preprocess edges"
   ]
  },
  {
   "cell_type": "code",
   "metadata": {
    "ExecuteTime": {
     "end_time": "2024-12-18T08:42:41.242424Z",
     "start_time": "2024-12-18T08:42:41.132938Z"
    }
   },
   "source": [
    "# Thêm một cột 'nodes' với giá trị mặc định là \"None\" cho các tuyến đường\n",
    "routes['nodes'] = \"None\"\n",
    "\n",
    "# Tạo một tập hợp để lưu trữ các trạm đã chọn\n",
    "selected_stations = set()\n",
    "\n",
    "# Lặp qua từng dòng trong DataFrame 'routes' để xử lý từng tuyến đường\n",
    "for i, route in routes.iterrows():\n",
    "    # Tạo một danh sách nodes (các điểm kết nối) có độ dài bằng số tọa độ của đường đi\n",
    "    nodes = [None] * len(route['geometry'].coords)\n",
    "\n",
    "    # Lặp qua từng trạm trong DataFrame 'stations'\n",
    "    for k, station in stations.iterrows():\n",
    "        # Lấy tọa độ hình học của trạm hiện tại\n",
    "        point = station['geometry']\n",
    "\n",
    "        # Kiểm tra khoảng cách giữa trạm và tuyến đường\n",
    "        if route['geometry'].distance(point) < 1e-3:  # Điều kiện khoảng cách rất nhỏ (1e-3)\n",
    "            min_dist = -1  # Khởi tạo khoảng cách nhỏ nhất là -1\n",
    "            min_j = 0      # Chỉ số của tọa độ gần nhất trên tuyến đường\n",
    "\n",
    "            # Lặp qua các điểm tọa độ trong tuyến đường\n",
    "            for j, node in enumerate(route['geometry'].coords):\n",
    "                idx = (point.x, point.y)  # Tạo tọa độ của trạm\n",
    "                dist = math.dist(node, idx)  # Tính khoảng cách Euclidean\n",
    "\n",
    "                # Cập nhật khoảng cách nhỏ nhất và vị trí gần nhất trên tuyến đường\n",
    "                if dist < min_dist or min_dist == -1:\n",
    "                    min_dist = dist\n",
    "                    min_j = j\n",
    "\n",
    "            # Kiểm tra xem vị trí gần nhất đã được gán hay chưa\n",
    "            if nodes[min_j] is not None:\n",
    "                min_j += 1  # Di chuyển sang chỉ số tiếp theo nếu vị trí đã được gán\n",
    "\n",
    "            # Gán node của trạm hiện tại vào danh sách nodes\n",
    "            nodes[min_j] = station['nodes']\n",
    "\n",
    "    # Loại bỏ các giá trị None trong danh sách nodes\n",
    "    nodes = [x for x in nodes if x]\n",
    "\n",
    "    # Gán danh sách nodes vào cột 'nodes' của tuyến đường hiện tại\n",
    "    routes.at[i, 'nodes'] = nodes\n",
    "\n",
    "# Lọc các tuyến đường có danh sách nodes không rỗng\n",
    "routes = routes[routes['nodes'].map(lambda d: len(d)) > 0]\n",
    "\n",
    "# Hiển thị 5 dòng đầu tiên của DataFrame 'routes'\n",
    "routes.head()\n"
   ],
   "outputs": [
    {
     "data": {
      "text/plain": [
       "                                            geometry                     nodes\n",
       "0  LINESTRING (105.87878 21.05161, 105.87518 21.0...  [(153, 117), (124, 105)]\n",
       "1  LINESTRING (105.85003 21.03984, 105.84718 21.0...   [(124, 105), (115, 90)]\n",
       "2  LINESTRING (105.84105 21.0252, 105.84084 21.01...    [(115, 90), (115, 44)]\n",
       "3  LINESTRING (105.84042 20.97908, 105.84067 20.9...    [(115, 44), (118, 10)]\n",
       "4  LINESTRING (105.91832 21.02843, 105.91334 21.0...   [(193, 94), (153, 117)]"
      ],
      "text/html": [
       "<div>\n",
       "<style scoped>\n",
       "    .dataframe tbody tr th:only-of-type {\n",
       "        vertical-align: middle;\n",
       "    }\n",
       "\n",
       "    .dataframe tbody tr th {\n",
       "        vertical-align: top;\n",
       "    }\n",
       "\n",
       "    .dataframe thead th {\n",
       "        text-align: right;\n",
       "    }\n",
       "</style>\n",
       "<table border=\"1\" class=\"dataframe\">\n",
       "  <thead>\n",
       "    <tr style=\"text-align: right;\">\n",
       "      <th></th>\n",
       "      <th>geometry</th>\n",
       "      <th>nodes</th>\n",
       "    </tr>\n",
       "  </thead>\n",
       "  <tbody>\n",
       "    <tr>\n",
       "      <th>0</th>\n",
       "      <td>LINESTRING (105.87878 21.05161, 105.87518 21.0...</td>\n",
       "      <td>[(153, 117), (124, 105)]</td>\n",
       "    </tr>\n",
       "    <tr>\n",
       "      <th>1</th>\n",
       "      <td>LINESTRING (105.85003 21.03984, 105.84718 21.0...</td>\n",
       "      <td>[(124, 105), (115, 90)]</td>\n",
       "    </tr>\n",
       "    <tr>\n",
       "      <th>2</th>\n",
       "      <td>LINESTRING (105.84105 21.0252, 105.84084 21.01...</td>\n",
       "      <td>[(115, 90), (115, 44)]</td>\n",
       "    </tr>\n",
       "    <tr>\n",
       "      <th>3</th>\n",
       "      <td>LINESTRING (105.84042 20.97908, 105.84067 20.9...</td>\n",
       "      <td>[(115, 44), (118, 10)]</td>\n",
       "    </tr>\n",
       "    <tr>\n",
       "      <th>4</th>\n",
       "      <td>LINESTRING (105.91832 21.02843, 105.91334 21.0...</td>\n",
       "      <td>[(193, 94), (153, 117)]</td>\n",
       "    </tr>\n",
       "  </tbody>\n",
       "</table>\n",
       "</div>"
      ]
     },
     "execution_count": 37,
     "metadata": {},
     "output_type": "execute_result"
    }
   ],
   "execution_count": 37
  },
  {
   "cell_type": "markdown",
   "metadata": {},
   "source": [
    "## Visualise the data in NetworkX"
   ]
  },
  {
   "cell_type": "code",
   "metadata": {
    "ExecuteTime": {
     "end_time": "2024-12-18T08:42:42.212172Z",
     "start_time": "2024-12-18T08:42:42.077165Z"
    }
   },
   "source": [
    "# Tạo một đồ thị vô hướng (Graph) bằng NetworkX\n",
    "G = nx.Graph()\n",
    "\n",
    "# Duyệt qua danh sách nodes (các điểm nối) của từng tuyến đường\n",
    "for nodes in routes['nodes']:\n",
    "    # Kết nối các điểm liền kề trong danh sách nodes để tạo các cạnh (edges)\n",
    "    for seg_start, seg_end in zip(nodes, nodes[1:]):\n",
    "        G.add_edge(seg_start, seg_end)\n",
    "\n",
    "# Tạo vị trí của các nodes dưới dạng dictionary {node: [x, y]}\n",
    "positions = {n: [n[0], n[1]] for n in list(G.nodes)}\n",
    "\n",
    "# Tạo một biểu đồ với kích thước (6.3, 5) inch\n",
    "fig = plt.figure(figsize=(6.3, 5))\n",
    "\n",
    "# Vẽ đồ thị G với các tùy chỉnh sau:\n",
    "# - positions: vị trí các nodes (tọa độ x và y)\n",
    "# - node_color='C1': màu sắc của các nút\n",
    "# - node_shape='s': hình dạng các nút (hình vuông)\n",
    "# - node_size=12: kích thước các nút\n",
    "# - with_labels=False: không hiển thị nhãn cho các nút\n",
    "nx.draw(G, positions,\n",
    "        node_color='C1',\n",
    "        node_shape='s',\n",
    "        node_size=12,\n",
    "        with_labels=False)\n",
    "\n",
    "# Lưu biểu đồ vào file 'output/original_graph.png'\n",
    "savefig('output/original_graph.png')\n"
   ],
   "outputs": [
    {
     "name": "stdout",
     "output_type": "stream",
     "text": [
      "Saving figure to file output/original_graph.png\n"
     ]
    },
    {
     "data": {
      "text/plain": [
       "<Figure size 630x500 with 1 Axes>"
      ],
      "image/png": "[encoded data removed]"
     },
     "metadata": {},
     "output_type": "display_data"
    }
   ],
   "execution_count": 38
  },
  {
   "metadata": {
    "ExecuteTime": {
     "end_time": "2024-12-18T08:42:43.233362Z",
     "start_time": "2024-12-18T08:42:43.215314Z"
    }
   },
   "cell_type": "code",
   "source": "",
   "outputs": [],
   "execution_count": 38
  },
  {
   "cell_type": "markdown",
   "metadata": {},
   "source": [
    "## Slime Mould"
   ]
  },
  {
   "cell_type": "markdown",
   "metadata": {},
   "source": [
    "### Cell"
   ]
  },
  {
   "cell_type": "code",
   "metadata": {
    "ExecuteTime": {
     "end_time": "2024-12-18T08:42:44.748372Z",
     "start_time": "2024-12-18T08:42:44.733055Z"
    }
   },
   "source": [
    "class Cell:\n",
    "    def __init__(self, pheromone=0., cell_type=0):\n",
    "        \"\"\"\n",
    "        Phương thức khởi tạo của lớp Cell.\n",
    "        \n",
    "        Args:\n",
    "            pheromone (float): Lượng pheromone trong ô, mặc định là 0.0.\n",
    "            cell_type (int): Loại của ô, mặc định là 0.\n",
    "        \"\"\"\n",
    "        self.pheromone = pheromone  # Lượng pheromone hiện tại của ô\n",
    "        self.cell_type = cell_type  # Loại của ô (ví dụ: 0 = ô trống, 1 = chướng ngại vật, v.v.)\n",
    "\n",
    "    def get_cell_type(self):\n",
    "        \"\"\"\n",
    "        Phương thức trả về loại của ô (cell_type).\n",
    "\n",
    "        Returns:\n",
    "            int: Giá trị của thuộc tính cell_type.\n",
    "        \"\"\"\n",
    "        return self.cell_type\n"
   ],
   "outputs": [],
   "execution_count": 39
  },
  {
   "cell_type": "markdown",
   "metadata": {},
   "source": [
    "### Food"
   ]
  },
  {
   "cell_type": "code",
   "metadata": {
    "ExecuteTime": {
     "end_time": "2024-12-18T08:42:45.813412Z",
     "start_time": "2024-12-18T08:42:45.804889Z"
    }
   },
   "source": [
    "class FoodCell(Cell):\n",
    "    def __init__(self, food_id: int, food_idx: tuple):\n",
    "        \"\"\"\n",
    "        Phương thức khởi tạo của lớp FoodCell, kế thừa từ lớp Cell.\n",
    "\n",
    "        Args:\n",
    "            food_id (int): ID của thức ăn.\n",
    "            food_idx (tuple): Tọa độ của thức ăn trong lưới (ví dụ: (x, y)).\n",
    "        \"\"\"\n",
    "        super().__init__(pheromone=10., cell_type=2)  # Gọi hàm khởi tạo lớp cha với pheromone = 10 và cell_type = 2.\n",
    "        self.food_id = food_id      # ID của thức ăn.\n",
    "        self.food_idx = food_idx    # Tọa độ của thức ăn.\n",
    "        self.pheromone = 10.        # Thiết lập lại pheromone của ô chứa thức ăn.\n",
    "\n",
    "    def get_food_idx(self):\n",
    "        \"\"\"\n",
    "        Phương thức trả về tọa độ của thức ăn.\n",
    "\n",
    "        Returns:\n",
    "            tuple: Tọa độ (x, y) của thức ăn.\n",
    "        \"\"\"\n",
    "        return self.food_idx\n",
    "\n",
    "    def get_food_id(self):\n",
    "        \"\"\"\n",
    "        Phương thức trả về ID của thức ăn.\n",
    "\n",
    "        Returns:\n",
    "            int: ID của thức ăn.\n",
    "        \"\"\"\n",
    "        return self.food_id\n"
   ],
   "outputs": [],
   "execution_count": 40
  },
  {
   "cell_type": "markdown",
   "metadata": {},
   "source": [
    "### Slime"
   ]
  },
  {
   "cell_type": "code",
   "metadata": {
    "ExecuteTime": {
     "end_time": "2024-12-18T08:42:46.152178Z",
     "start_time": "2024-12-18T08:42:46.107403Z"
    }
   },
   "source": [
    "DIFFUSION_THRESHOLD = 3.5\n",
    "DIFFUSION_DECAY_RATE = 1.26\n",
    "DISTANCE_FOR_DIFFUSION_THRESHOLD = 55\n",
    "MOVING_THRESHOLD = 1\n",
    "MAX_PH = 5.5\n",
    "MAX_PH_INCREASE_STEP = 0.2\n",
    "\n",
    "\n",
    "def get_neighbours(idx):\n",
    "    \"\"\"\n",
    "    Lấy chỉ mục của các ô lân cận của ô slime đầu vào\n",
    "    :param idx: chỉ mục của ô slime\n",
    "    :return: danh sách chỉ mục của các ô lân cận\n",
    "    \"\"\"\n",
    "    return [\n",
    "        (idx[0] - 1, idx[1] - 1),  # lên 1, trái 1\n",
    "        (idx[0] - 1, idx[1]),  # lên 1,\n",
    "        (idx[0] - 1, idx[1] + 1),  # lên 1, phải 1\n",
    "        (idx[0], idx[1] - 1),  # trái 1\n",
    "        (idx[0], idx[1] + 1),  # phải 1\n",
    "        (idx[0] + 1, idx[1] - 1),  # xuống 1, trái 1\n",
    "        (idx[0] + 1, idx[1]),  # xuống 1,\n",
    "        (idx[0] + 1, idx[1] + 1),  # xuống 1, phải 1\n",
    "    ]\n",
    "\n",
    "\n",
    "def step_direction(index: int, idx: tuple):\n",
    "    \"\"\"\n",
    "    Lấy bước di chuyển tiếp theo của ô slime\n",
    "    :param index: chỉ mục hướng đi\n",
    "    :param idx: chỉ mục của ô slime\n",
    "    :return: chỉ mục của bước di chuyển tiếp theo\n",
    "    \"\"\"\n",
    "    next_step = {\n",
    "        0: (0, 0),\n",
    "        1: (-1, -1),\n",
    "        2: (1, -1),\n",
    "        3: (-1, 1),\n",
    "        4: (1, 1),\n",
    "        5: (-1, 0),\n",
    "        6: (1, 0),\n",
    "        7: (0, -1),\n",
    "        8: (0, 1)\n",
    "    }\n",
    "    return next_step[index][0] + idx[0], next_step[index][1] + idx[1]\n",
    "\n",
    "\n",
    "class SlimeCell(Cell):\n",
    "\n",
    "    def __init__(self, idx: tuple, pheromone: float, mould, dish, is_capital):\n",
    "        super().__init__(pheromone=pheromone, cell_type=1)\n",
    "\n",
    "        self.idx = idx  # Chỉ mục của ô slime\n",
    "        self.pheromone = pheromone  # Nồng độ pheromone của ô slime\n",
    "        self.max_ph = 4  # Giá trị pheromone tối đa mà ô slime có thể đạt được\n",
    "        self.direction = None  # Hướng di chuyển\n",
    "        self.is_capital = is_capital  # Kiểm tra xem ô slime có phải là ô đầu tiên không\n",
    "        self.reached_food_id = None  # ID của thức ăn mà ô slime đã đạt được\n",
    "        self.mould = mould  # Đối tượng mô hình\n",
    "        self.dish = dish  # Đối tượng đĩa\n",
    "        self.food_path = []  # Đường đi của thức ăn mà ô slime sẽ di chuyển\n",
    "\n",
    "        # (food_id, food_idx)\n",
    "        self.step_food = None  # Thức ăn sẽ được ô slime tiếp cận tiếp theo\n",
    "        self.curr_target = None  # Mục tiêu hiện tại của ô slime\n",
    "\n",
    "    def find_nearest_food(self, food_ids):\n",
    "        \"\"\"\n",
    "        Tìm thức ăn gần nhất đối với ô slime\n",
    "        :param food_ids: danh sách ID thức ăn\n",
    "        :return: min_i: ID thức ăn gần nhất, min_dist: khoảng cách đến thức ăn gần nhất\n",
    "        \"\"\"\n",
    "        min_dist = -1\n",
    "        min_i = 0\n",
    "        # Tìm thức ăn gần nhất\n",
    "        for i in food_ids:\n",
    "            food_idx = self.dish.get_food_position(i)\n",
    "            dist = math.dist(self.idx, food_idx)\n",
    "            if min_dist > dist or min_dist < 0:\n",
    "                min_dist = dist\n",
    "                min_i = i\n",
    "        return min_i, min_dist\n",
    "\n",
    "    def set_reached_food_path(self):\n",
    "        \"\"\"\n",
    "        Thiết lập đường đi của thức ăn mà ô slime sẽ đi qua\n",
    "        \"\"\"\n",
    "        # Mục tiêu thức ăn (food_id, food_idx)\n",
    "        target_food_id = self.mould.get_current_target()[0]\n",
    "        self.curr_target = target_food_id\n",
    "\n",
    "        mould_reached_food_ids = self.mould.get_reached_food_ids()\n",
    "\n",
    "        if len(mould_reached_food_ids) == 0:\n",
    "            self.food_path.append(self.mould.get_current_target()[0])\n",
    "\n",
    "        else:\n",
    "            # Tìm thức ăn gần nhất\n",
    "            min_i = self.find_nearest_food(food_ids=self.mould.get_reached_food_ids())[0]\n",
    "\n",
    "            nearest_target = self.mould.get_nearest_connected_target()\n",
    "            if nearest_target != -1:\n",
    "                # Tìm đường đi ngắn nhất từ thức ăn gần nhất đến thức ăn mục tiêu\n",
    "                self.food_path = nx.shortest_path(G=self.dish.get_food_graph(), source=min_i,\n",
    "                                                  target=nearest_target)\n",
    "            else:\n",
    "                self.food_path.append(min_i)\n",
    "            self.food_path.append(target_food_id)\n",
    "        step_food_id = self.food_path.pop(0)\n",
    "        self.step_food = (step_food_id, self.dish.get_food_position(step_food_id))\n",
    "\n",
    "    def reset_step_food(self):\n",
    "        \"\"\"\n",
    "        Cập nhật thức ăn bước tiếp theo mà ô slime sẽ đi đến\n",
    "        \"\"\"\n",
    "        # Nếu đã đạt được mục tiêu thức ăn\n",
    "        if self.reached_food_id == self.curr_target and self.curr_target == self.mould.get_current_target()[0]:\n",
    "            return\n",
    "\n",
    "        if self.step_food is None or len(self.food_path) == 0:\n",
    "            self.set_reached_food_path()\n",
    "        else:\n",
    "            # Nếu đã đạt đến thức ăn tiếp theo\n",
    "            step_food_idx = self.dish.get_food_position(self.step_food[0])\n",
    "            if math.dist(step_food_idx, self.idx) < 3:\n",
    "                step_food_id = self.food_path.pop(0)\n",
    "                self.step_food = (step_food_id, self.dish.get_food_position(step_food_id))\n",
    "\n",
    "    def sensory(self):\n",
    "        \"\"\"\n",
    "        Thiết lập hướng di chuyển tiếp theo dựa trên vị trí của thức ăn\n",
    "        \"\"\"\n",
    "        if self.reached_food_id == self.step_food:\n",
    "            self.reset_step_food()\n",
    "        food_idx = self.step_food[1]\n",
    "\n",
    "        # (-1, -1)\n",
    "        if food_idx[0] < self.idx[0] and food_idx[1] < self.idx[1]:\n",
    "            self.direction = 1\n",
    "        # (1, -1)\n",
    "        elif food_idx[0] > self.idx[0] and food_idx[1] < self.idx[1]:\n",
    "            self.direction = 2\n",
    "        # (-1, 1)\n",
    "        elif food_idx[0] < self.idx[0] and food_idx[1] > self.idx[1]:\n",
    "            self.direction = 3\n",
    "        # (1, 1)\n",
    "        elif food_idx[0] > self.idx[0] and food_idx[1] > self.idx[1]:\n",
    "            self.direction = 4\n",
    "        # (-1, 0)\n",
    "        elif food_idx[0] < self.idx[0]:\n",
    "            self.direction = 5\n",
    "        # (1, 0)\n",
    "        elif food_idx[0] > self.idx[0]:\n",
    "            self.direction = 6\n",
    "        # (0, -1)\n",
    "        elif food_idx[1] < self.idx[1]:\n",
    "            self.direction = 7\n",
    "        # (0, 1)\n",
    "        elif food_idx[1] > self.idx[1]:\n",
    "            self.direction = 8\n",
    "\n",
    "    @staticmethod\n",
    "    def check_boundary(idx, lattice_shape):\n",
    "        \"\"\"\n",
    "        Kiểm tra xem ô lân cận có vượt qua biên của lưới hay không\n",
    "        :param idx: vị trí của ô lân cận\n",
    "        :param lattice_shape: kích thước của lưới\n",
    "        :return: trả về False nếu vượt biên, ngược lại trả về True\n",
    "        \"\"\"\n",
    "        if idx[0] >= lattice_shape[0] or idx[0] <= 0 or idx[1] >= lattice_shape[1] or idx[1] <= 0:\n",
    "            return False\n",
    "        return True\n",
    "\n",
    "    # hàm khuếch tán pheromone của tế bào slime\n",
    "def diffusion(self, lattice, decay):\n",
    "    \"\"\"\n",
    "    Tế bào slime kiểm tra tất cả 8 tế bào lân cận và thực hiện khuếch tán pheromone dựa trên các điều kiện.\n",
    "    1. Thực hiện khuếch tán trên hướng di chuyển chính đầu tiên.\n",
    "    2. Tiến hành khuếch tán các tế bào còn lại nếu chưa đạt ngưỡng DIFFUSION THRESHOLD.\n",
    "    3. Có các chiến lược khuếch tán khác nhau cho từng loại tế bào lân cận (tế bào trống, slime, thức ăn, ranh giới).\n",
    "    4. Pheromone của tế bào slime sẽ giảm sau mỗi lần khuếch tán.\n",
    "    :param lattice: Lưới chứa các tế bào\n",
    "    :param decay: Tỷ lệ giảm pheromone của tế bào slime\n",
    "    \"\"\"\n",
    "    # Tính toán bước di chuyển tiếp theo\n",
    "    new_idx = step_direction(self.direction, self.idx)\n",
    "    neighbours = get_neighbours(self.idx)\n",
    "\n",
    "    # Đảm bảo rằng bước di chuyển chính là bước đầu tiên trong danh sách lân cận\n",
    "    neighbours.remove(new_idx)\n",
    "    neighbours = deque(neighbours)\n",
    "    neighbours.appendleft(new_idx)\n",
    "\n",
    "    # Duyệt qua các lân cận và thực hiện khuếch tán pheromone\n",
    "    while neighbours:\n",
    "        neigh = neighbours.popleft()\n",
    "\n",
    "        # Bỏ qua nếu tế bào lân cận nằm ngoài ranh giới\n",
    "        if not self.check_boundary(neigh, lattice.shape):\n",
    "            continue\n",
    "\n",
    "        neigh_cell = lattice[neigh]\n",
    "\n",
    "        # Nếu tế bào lân cận là một tế bào trống\n",
    "        if neigh_cell.get_cell_type() == 0:\n",
    "            # Nếu tế bào trống là tế bào di chuyển chính và pheromone đủ lớn\n",
    "            if neigh == new_idx and self.pheromone > MOVING_THRESHOLD:\n",
    "                self.mould.slime_cell_generator(idx=neigh, pheromone=self.pheromone, decay=decay,\n",
    "                                                is_capital=self.is_capital)\n",
    "                self.pheromone *= (1 - DIFFUSION_DECAY_RATE * decay)\n",
    "                self.is_capital = False\n",
    "                continue\n",
    "\n",
    "            # Nếu pheromone đủ lớn và có thức ăn gần đó, tạo tế bào slime mới tại vị trí này\n",
    "            if self.pheromone > DIFFUSION_THRESHOLD and \\\n",
    "                    self.find_nearest_food(self.mould.get_reached_food_ids())[1] < DISTANCE_FOR_DIFFUSION_THRESHOLD:\n",
    "                self.mould.slime_cell_generator(idx=neigh, pheromone=self.pheromone/DIFFUSION_DECAY_RATE, decay=decay)\n",
    "                self.pheromone *= (1 - (2 * DIFFUSION_DECAY_RATE * decay))\n",
    "\n",
    "        # Nếu tế bào lân cận là một tế bào slime\n",
    "        elif neigh_cell.get_cell_type() == 1:\n",
    "            # Nếu tế bào slime lân cận là tế bào di chuyển chính\n",
    "            if neigh == new_idx and self.pheromone > MOVING_THRESHOLD:\n",
    "                neigh_increase_ph = neigh_cell.pheromone + self.pheromone / DIFFUSION_DECAY_RATE\n",
    "                if neigh_increase_ph > neigh_cell.max_ph:\n",
    "                    neigh_cell.pheromone = neigh_cell.max_ph\n",
    "                else:\n",
    "                    neigh_cell.pheromone = neigh_increase_ph\n",
    "                self.pheromone /= DIFFUSION_DECAY_RATE\n",
    "\n",
    "                # Cập nhật thông tin tế bào slime\n",
    "                self.mould.update_slime_cell(new_idx, neigh_cell)\n",
    "\n",
    "            # Nếu tế bào slime lân cận có pheromone lớn hơn, tăng pheromone của bản thân\n",
    "            if neigh_cell.pheromone > self.pheromone and self.max_ph < MAX_PH:\n",
    "                self.max_ph += MAX_PH_INCREASE_STEP\n",
    "                self.pheromone += (neigh_cell.pheromone / 10)\n",
    "\n",
    "        # Nếu tế bào lân cận chứa thức ăn\n",
    "        elif neigh_cell.get_cell_type() == 2:\n",
    "            # Tế bào slime \"ăn\" thức ăn và pheromone sẽ được đặt lại\n",
    "            self.pheromone = 7\n",
    "            self.max_ph = 7\n",
    "            self.reached_food_id = neigh_cell.get_food_id()\n",
    "            new_food_id = neigh_cell.get_food_id()\n",
    "            if new_food_id not in self.mould.get_reached_food_ids():\n",
    "                self.mould.update_food_connection(new_food_id)\n",
    "                self.mould.get_reached_food_ids().add(new_food_id)\n",
    "\n",
    "    # Cập nhật tế bào slime sau khi khuếch tán\n",
    "    self.mould.update_slime_cell(self.idx, self)\n",
    "\n",
    "# Hàm thực hiện một bước của tế bào slime, bao gồm cả cảm nhận và khuếch tán\n",
    "def step(self, lattice, decay):\n",
    "    \"\"\"\n",
    "    Giai đoạn cảm nhận: tất cả tế bào slime điều chỉnh hướng di chuyển dựa trên thức ăn.\n",
    "    Giai đoạn khuếch tán: tất cả pheromone được khuếch tán trong không gian lưới.\n",
    "    \"\"\"\n",
    "    self.sensory()  # Cảm nhận môi trường xung quanh\n",
    "    self.diffusion(lattice, decay)  # Khuếch tán pheromone\n",
    "\n",
    "# Trả về chỉ số của tế bào slime\n",
    "def get_idx(self):\n",
    "    return self.idx\n",
    "\n",
    "# Trả về lượng pheromone hiện tại của tế bào slime\n",
    "def get_pheromone(self):\n",
    "    return self.pheromone\n",
    "\n",
    "# Đặt giá trị pheromone cho tế bào slime\n",
    "def set_pheromone(self, ph):\n",
    "    self.pheromone = ph\n",
    "\n",
    "# Trả về ID của thức ăn mà tế bào slime đã tìm thấy\n",
    "def get_reached_food_id(self):\n",
    "    return self.reached_food_id\n",
    "\n",
    "# Đặt trạng thái tế bào slime là không phải tế bào chính\n",
    "def remove_capital(self):\n",
    "    self.is_capital = False"
   ],
   "outputs": [],
   "execution_count": 41
  },
  {
   "cell_type": "markdown",
   "metadata": {},
   "source": [
    "### Mould"
   ]
  },
  {
   "cell_type": "code",
   "metadata": {
    "ExecuteTime": {
     "end_time": "2024-12-18T08:42:46.554076Z",
     "start_time": "2024-12-18T08:42:46.518731Z"
    }
   },
   "source": [
    "TARGET_SWITCH_THRESHOLD = 5  # Đặt ngưỡng chuyển đổi mục tiêu sau một số bước nhất định\n",
    "\n",
    "def get_corner_slime_cells(slime_cells, current_direction, direction_list=None):\n",
    "    \"\"\"\n",
    "    Lấy tế bào slime ở góc của môi trường mốc để quyết định mục tiêu thức ăn tiếp theo.\n",
    "    :return: tế bào slime ở góc đã chọn.\n",
    "    \"\"\"\n",
    "    slime_idx = slime_cells.keys()  # Lấy các chỉ số của các tế bào slime\n",
    "    curr_capital_slime = None  # Khởi tạo tế bào slime chính (capital slime)\n",
    "\n",
    "    # Tùy vào hướng hiện tại để chọn tế bào slime ở góc phù hợp\n",
    "    if current_direction == 0:\n",
    "        curr_capital_slime = slime_cells[min(slime_idx)]\n",
    "    elif current_direction == 1:\n",
    "        max_x = max([x for x, y in slime_idx])\n",
    "        for x, y in slime_idx:\n",
    "            if x == max_x:\n",
    "                curr_capital_slime = slime_cells[(x, y)]\n",
    "                break\n",
    "    elif current_direction == 2:\n",
    "        min_y = min([y for x, y in slime_idx])\n",
    "        for x, y in slime_idx:\n",
    "            if y == min_y:\n",
    "                curr_capital_slime = slime_cells[(x, y)]\n",
    "                break\n",
    "    elif current_direction == 3:\n",
    "        curr_capital_slime = slime_cells[max(slime_idx)]\n",
    "\n",
    "    # Nếu tế bào slime đã tìm thấy thức ăn, kiểm tra lại hướng nếu cần thiết\n",
    "    if curr_capital_slime.get_reached_food_id() is not None:\n",
    "        if direction_list is not None:\n",
    "            direction_list.remove(current_direction)\n",
    "        else:\n",
    "            direction_list = [0, 1, 2, 3]\n",
    "        get_corner_slime_cells(slime_cells, random.choice(direction_list))\n",
    "    return curr_capital_slime\n",
    "\n",
    "\n",
    "class Mould:\n",
    "    def __init__(self, dish, start_loc: tuple, mould_shape: tuple, init_mould_coverage: float, decay: float):\n",
    "        \"\"\"\n",
    "        Khởi tạo môi trường mốc (Mould) với các thông số ban đầu.\n",
    "        :param dish: Món ăn (đĩa thức ăn).\n",
    "        :param start_loc: Vị trí bắt đầu của môi trường mốc.\n",
    "        :param mould_shape: Hình dạng của môi trường mốc.\n",
    "        :param init_mould_coverage: Tỷ lệ bao phủ ban đầu của môi trường mốc.\n",
    "        :param decay: Tốc độ phân hủy của các tế bào slime.\n",
    "        \"\"\"\n",
    "        self.dish = dish\n",
    "        self.decay = decay\n",
    "        self.slime_cells = {}  # Lưu trữ các tế bào slime\n",
    "        self.mould_shape = mould_shape\n",
    "        self.reached_food_ids = set()  # Thực phẩm đã được tìm thấy\n",
    "        self.current_target = 0  # Mục tiêu thức ăn hiện tại\n",
    "        self.nearest_connected_target = -1  # Mục tiêu kết nối gần nhất\n",
    "        self.capital_slime = None  # Tế bào slime chính\n",
    "        self.initialise(start_loc, mould_shape, init_mould_coverage)\n",
    "\n",
    "        # Các thống kê sau mỗi bước tiến hóa\n",
    "        self.avg_ph = []\n",
    "        self.total_num = []\n",
    "        self.total_active_num = []\n",
    "        self.total_inactive_num = []\n",
    "        self.total_reached_foods = []\n",
    "        self.coverage_ratio = []\n",
    "        self.target_switch_count = 0  # Đếm số lần chuyển đổi mục tiêu\n",
    "\n",
    "    def remove_slime_cell(self, idx):\n",
    "        \"\"\"\n",
    "        Loại bỏ tế bào slime khỏi môi trường mốc.\n",
    "        :param idx: Chỉ số của tế bào slime cần loại bỏ.\n",
    "        \"\"\"\n",
    "        self.dish.set_lattice(idx, Cell())  # Đặt lại ô của tế bào slime thành Cell rỗng\n",
    "        del self.slime_cells[idx]  # Xóa tế bào slime khỏi danh sách\n",
    "\n",
    "    def update_slime_cell(self, idx, slime: SlimeCell):\n",
    "        \"\"\"\n",
    "        Cập nhật lại tế bào slime trong môi trường mốc.\n",
    "        :param idx: Chỉ số của tế bào slime.\n",
    "        :param slime: Tế bào slime mới để cập nhật.\n",
    "        \"\"\"\n",
    "        if idx is None or slime is None:\n",
    "            return\n",
    "        self.slime_cells[idx] = slime\n",
    "        self.dish.set_lattice(idx, slime)  # Cập nhật lại môi trường mốc với tế bào slime mới\n",
    "\n",
    "    def initialise(self, start_loc, mould_shape, init_mould_coverage):\n",
    "        \"\"\"\n",
    "        Khởi tạo môi trường mốc.\n",
    "        :param start_loc: Vị trí bắt đầu của môi trường mốc.\n",
    "        :param mould_shape: Hình dạng của môi trường mốc.\n",
    "        :param init_mould_coverage: Tỷ lệ bao phủ của môi trường mốc ban đầu.\n",
    "        \"\"\"\n",
    "        # Tạo các tế bào slime trong phạm vi môi trường mốc với tỷ lệ bao phủ nhất định\n",
    "        for x in start_loc[0] - mould_shape[0], start_loc[0] + mould_shape[0]:\n",
    "            for y in start_loc[1] - mould_shape[1], start_loc[1] + mould_shape[1]:\n",
    "                if random.random() < init_mould_coverage and (x, y) not in self.dish.get_all_foods_idx():\n",
    "                    self.slime_cell_generator(idx=(x, y))\n",
    "        self.setup_capital_slime()\n",
    "        self.update_target_food()\n",
    "\n",
    "    def setup_capital_slime(self):\n",
    "        \"\"\"\n",
    "        Thiết lập tế bào slime chính để quyết định mục tiêu thức ăn tiếp theo.\n",
    "        \"\"\"\n",
    "        if self.capital_slime is not None:\n",
    "            previous_capital_slime = self.capital_slime\n",
    "            previous_capital_slime.remove_capital()\n",
    "            self.update_slime_cell(previous_capital_slime.get_idx(), previous_capital_slime)\n",
    "        self.capital_slime = get_corner_slime_cells(self.slime_cells, random.choice([0, 1, 2, 3]))\n",
    "        self.update_slime_cell(self.capital_slime.get_idx(), self.capital_slime)\n",
    "\n",
    "    def slime_cell_generator(self, idx, pheromone=None, decay=0, is_capital=False):\n",
    "        \"\"\"\n",
    "        Tạo một tế bào slime mới.\n",
    "        :param idx: Chỉ số của tế bào slime.\n",
    "        :param pheromone: Giá trị feromon của tế bào slime.\n",
    "        :param decay: Tốc độ phân hủy của tế bào slime.\n",
    "        :param is_capital: Đặt tế bào slime này làm tế bào slime chính nếu True.\n",
    "        :return: Tế bào slime đã được tạo.\n",
    "        \"\"\"\n",
    "        if pheromone is None:\n",
    "            pheromone = 4. * (1 - decay)\n",
    "        slime_cell = SlimeCell(idx=idx, pheromone=pheromone, mould=self, dish=self.dish, is_capital=is_capital)\n",
    "        if slime_cell.is_capital:\n",
    "            self.capital_slime = slime_cell\n",
    "        self.update_slime_cell(slime_cell.get_idx(), slime_cell)\n",
    "        return slime_cell\n",
    "\n",
    "    def find_nearest_connected_food(self, food_id):\n",
    "        \"\"\"\n",
    "        Tìm thức ăn gần nhất đã kết nối với thức ăn mục tiêu.\n",
    "        :param food_id: ID của thức ăn mục tiêu.\n",
    "        :return: ID của thức ăn kết nối gần nhất.\n",
    "        \"\"\"\n",
    "        min_dist = -1\n",
    "        min_i = -1\n",
    "        food_idx = self.dish.get_food_position(food_id)\n",
    "        for i in self.reached_food_ids:\n",
    "            if i == food_id:\n",
    "                continue\n",
    "            reachable_food_idx = self.dish.get_food_position(i)\n",
    "            dist = math.dist(food_idx, reachable_food_idx)\n",
    "            if min_dist > dist or min_dist == -1:\n",
    "                min_dist = dist\n",
    "                min_i = i\n",
    "        return min_i\n",
    "\n",
    "    def update_food_connection(self, food_id):\n",
    "        \"\"\"\n",
    "        Cập nhật kết nối thức ăn trong đồ thị thức ăn.\n",
    "        :param food_id: ID của thức ăn cần được kết nối.\n",
    "        \"\"\"\n",
    "        if len(self.reached_food_ids) == 0:\n",
    "            return\n",
    "        self.nearest_connected_target = self.find_nearest_connected_food(food_id)\n",
    "        if not self.dish.get_food_graph().has_edge(food_id, self.nearest_connected_target):\n",
    "            self.dish.add_food_edge(food_id, self.nearest_connected_target)\n",
    "\n",
    "    def update_target_food(self):\n",
    "        \"\"\"\n",
    "        Cập nhật mục tiêu thức ăn hiện tại.\n",
    "        \"\"\"\n",
    "        remaining_food_ids = set(self.dish.get_all_foods().keys()) - self.reached_food_ids\n",
    "        min_i = self.capital_slime.find_nearest_food(remaining_food_ids)[0]\n",
    "        if min_i != self.current_target:\n",
    "            self.current_target = (min_i, self.dish.get_food_position(min_i))\n",
    "            self.nearest_connected_target = self.find_nearest_connected_food(min_i)\n",
    "            self.update_food_connection(min_i)\n",
    "\n",
    "def update_slime(self):\n",
    "    \"\"\"\n",
    "    Cập nhật thống kê của mẫu và\n",
    "    cập nhật từng slime sau mỗi bước tiến hóa của mẫu.\n",
    "    \"\"\"\n",
    "    # Cập nhật thống kê sau mỗi bước tiến hóa\n",
    "    active_slime = [slime.pheromone for slime in list(self.slime_cells.values())\n",
    "                    if slime.pheromone > 1]  # Chọn những slime có pheromone > 1 (slime hoạt động)\n",
    "    average_pheromone = np.average(active_slime)  # Tính trung bình pheromone của slime hoạt động\n",
    "    self.avg_ph.append(average_pheromone)  # Thêm giá trị trung bình vào danh sách\n",
    "    self.total_num.append(len(self.slime_cells))  # Thêm số lượng slime vào danh sách\n",
    "    self.total_active_num.append(len(active_slime))  # Thêm số lượng slime hoạt động vào danh sách\n",
    "    self.total_inactive_num.append(len(self.slime_cells) - len(active_slime))  # Số slime không hoạt động\n",
    "    self.total_reached_foods.append(len(self.reached_food_ids))  # Số lượng thực phẩm đã đạt được\n",
    "    self.coverage_ratio.append(len(self.slime_cells) / self.dish.get_dish_size())  # Tỷ lệ phủ của slime trên đĩa\n",
    "\n",
    "    # Kiểm tra nếu số lần chuyển mục tiêu vượt qua ngưỡng hoặc slime chính đã đạt thực phẩm\n",
    "    if self.target_switch_count > TARGET_SWITCH_THRESHOLD or \\\n",
    "            self.capital_slime.get_reached_food_id() is not None or self.current_target[0] in self.reached_food_ids:\n",
    "        self.target_switch_count = 0  # Đặt lại số lần chuyển mục tiêu\n",
    "        self.setup_capital_slime()  # Cài đặt lại slime chính\n",
    "        self.update_target_food()  # Cập nhật mục tiêu thực phẩm\n",
    "\n",
    "def evolve(self):\n",
    "    \"\"\"\n",
    "    Bước tiến hóa của mẫu,\n",
    "    mỗi slime cell trong mẫu sẽ thực hiện một bước trong mỗi bước tiến hóa.\n",
    "    \"\"\"\n",
    "    previous_reached_foods = len(self.reached_food_ids)  # Lưu số lượng thực phẩm đã đạt được trước đó\n",
    "    slime_idx = list(self.slime_cells.keys())  # Lấy danh sách chỉ số của các slime cells\n",
    "    for idx in slime_idx:\n",
    "        # Mỗi slime sẽ thực hiện bước tiến hóa, tham chiếu đến lưới của mẫu và độ suy giảm pheromone\n",
    "        self.dish.get_lattice()[idx].step(self.dish.get_lattice(), self.decay)\n",
    "    # Kiểm tra nếu số lượng thực phẩm đã đạt được không thay đổi, tăng số lần chuyển mục tiêu\n",
    "    if len(self.reached_food_ids) == previous_reached_foods:\n",
    "        self.target_switch_count += 1\n",
    "    self.update_slime()  # Cập nhật thống kê sau mỗi bước tiến hóa\n",
    "\n",
    "# Các phương thức truy xuất các thông tin về mẫu và slime\n",
    "def get_current_target(self):\n",
    "    return self.current_target  # Trả về mục tiêu hiện tại\n",
    "\n",
    "def get_reached_food_ids(self):\n",
    "    return self.reached_food_ids  # Trả về danh sách các ID thực phẩm đã đạt được\n",
    "\n",
    "def get_avg_ph(self):\n",
    "    return self.avg_ph  # Trả về danh sách các giá trị trung bình pheromone\n",
    "\n",
    "def get_total_num(self):\n",
    "    return self.total_num  # Trả về danh sách số lượng slime cells\n",
    "\n",
    "def get_total_active_num(self):\n",
    "    return self.total_active_num  # Trả về danh sách số lượng slime cells hoạt động\n",
    "\n",
    "def get_total_inactive_num(self):\n",
    "    return self.total_inactive_num  # Trả về danh sách số lượng slime cells không hoạt động\n",
    "\n",
    "def get_coverage_ratio(self):\n",
    "    return self.coverage_ratio  # Trả về danh sách tỷ lệ phủ của slime cells\n",
    "\n",
    "def get_total_reached_foods(self):\n",
    "    return self.total_reached_foods  # Trả về danh sách số lượng thực phẩm đã đạt được\n",
    "\n",
    "def get_nearest_connected_target(self):\n",
    "    return self.nearest_connected_target  # Trả về mục tiêu kết nối gần nhất"
   ],
   "outputs": [],
   "execution_count": 42
  },
  {
   "cell_type": "markdown",
   "metadata": {},
   "source": [
    "### Dish"
   ]
  },
  {
   "cell_type": "code",
   "metadata": {
    "ExecuteTime": {
     "end_time": "2024-12-18T08:42:46.972132Z",
     "start_time": "2024-12-18T08:42:46.943760Z"
    }
   },
   "source": [
    "class Dish:\n",
    "    def __init__(self, dish_shape: tuple, foods: pd.DataFrame, start_loc: tuple, mould_shape: tuple, init_mould_coverage: float,\n",
    "                 decay: float):\n",
    "        \"\"\"\n",
    "        Khởi tạo đối tượng Dish (Đĩa), bao gồm việc tạo lưới đĩa, khởi tạo thực phẩm và mẫu slime.\n",
    "        :param dish_shape: Kích thước của lưới đĩa (dạng tuple).\n",
    "        :param foods: Dữ liệu về thực phẩm dưới dạng DataFrame.\n",
    "        :param start_loc: Vị trí bắt đầu của mẫu slime (dạng tuple).\n",
    "        :param mould_shape: Kích thước của mẫu slime (dạng tuple).\n",
    "        :param init_mould_coverage: Tỷ lệ phủ ban đầu của mẫu slime (float).\n",
    "        :param decay: Hệ số suy giảm pheromone (float).\n",
    "        \"\"\"\n",
    "        self.lattice = self.initialise_dish(dish_shape)  # Khởi tạo lưới đĩa\n",
    "        self.dish_size = dish_shape[0] * dish_shape[1]  # Tính kích thước của đĩa\n",
    "        self.all_foods = {}  # Từ điển chứa tất cả thực phẩm\n",
    "        self.all_foods_idx = []  # Danh sách chứa các chỉ số thực phẩm\n",
    "        self.food_positions = {}  # Từ điển chứa vị trí thực phẩm\n",
    "        self.food_graph = nx.Graph()  # Đồ thị kết nối thực phẩm\n",
    "        self.initialise_food(foods)  # Khởi tạo thực phẩm trên lưới\n",
    "        self.mould = self.initialise_slime_mould(self, start_loc, mould_shape, init_mould_coverage, decay)  # Khởi tạo mẫu slime\n",
    "\n",
    "    @staticmethod\n",
    "    def initialise_dish(dish_shape):\n",
    "        \"\"\"\n",
    "        Khởi tạo lưới đĩa.\n",
    "        :param dish_shape: Kích thước của lưới đĩa.\n",
    "        :return: Lưới đĩa.\n",
    "        \"\"\"\n",
    "        lattice = np.empty(dish_shape, object)  # Tạo một lưới trống với kích thước dish_shape\n",
    "        for i in np.ndindex(dish_shape):  # Duyệt qua tất cả các chỉ số trong lưới\n",
    "            lattice[i] = Cell()  # Khởi tạo từng ô trong lưới là một đối tượng Cell\n",
    "        return lattice\n",
    "\n",
    "    def initialise_food(self, foods):\n",
    "        \"\"\"\n",
    "        Thêm thực phẩm vào lưới đĩa.\n",
    "        :param foods: Dữ liệu về thực phẩm (DataFrame).\n",
    "        \"\"\"\n",
    "        for i, station in foods.iterrows():  # Duyệt qua từng thực phẩm trong DataFrame\n",
    "            idx = (station['x'], station['y'])  # Lấy vị trí của thực phẩm\n",
    "            value = station['value']  # Giá trị của thực phẩm (số lượng)\n",
    "\n",
    "            self.food_positions[i] = idx  # Lưu vị trí thực phẩm\n",
    "\n",
    "            for x in range(value // 2):  # Duyệt qua chiều dài của thực phẩm\n",
    "                for y in range(value // 2):  # Duyệt qua chiều rộng của thực phẩm\n",
    "                    food_idx = (idx[0] - x, idx[1] - y)  # Tính toán vị trí từng phần thực phẩm\n",
    "                    food = FoodCell(food_id=i, food_idx=food_idx)  # Tạo đối tượng thực phẩm\n",
    "                    self.lattice[food_idx] = food  # Đặt thực phẩm vào lưới\n",
    "\n",
    "                    # Thêm chỉ số thực phẩm vào danh sách\n",
    "                    self.all_foods_idx.append(food_idx)\n",
    "\n",
    "                    # Thêm thực phẩm vào từ điển tất cả thực phẩm\n",
    "                    if i not in self.all_foods:\n",
    "                        self.all_foods[i] = [food]\n",
    "                    else:\n",
    "                        self.all_foods[i].append(food)\n",
    "\n",
    "        self.food_graph.add_nodes_from(self.food_positions)  # Thêm các nút thực phẩm vào đồ thị\n",
    "\n",
    "    @staticmethod\n",
    "    def initialise_slime_mould(dish, start_loc, mould_shape, init_mould_coverage, decay):\n",
    "        \"\"\"\n",
    "        Khởi tạo mẫu slime.\n",
    "        :param dish: Đĩa (Dish).\n",
    "        :param start_loc: Vị trí bắt đầu của mẫu slime.\n",
    "        :param mould_shape: Kích thước của mẫu slime.\n",
    "        :param init_mould_coverage: Tỷ lệ phủ ban đầu của mẫu slime.\n",
    "        :param decay: Hệ số suy giảm pheromone.\n",
    "        :return: Đối tượng Mould.\n",
    "        \"\"\"\n",
    "        return Mould(dish, start_loc, mould_shape, init_mould_coverage, decay)\n",
    "\n",
    "    @staticmethod\n",
    "    def pheromones(lattice):\n",
    "        \"\"\"\n",
    "        Trả về lưới chỉ chứa pheromone để vẽ đồ thị.\n",
    "        :param lattice: Lưới đĩa.\n",
    "        :return: Lưới chứa pheromone.\n",
    "        \"\"\"\n",
    "        pheromones = np.zeros_like(lattice, dtype=float)  # Tạo lưới pheromone trống\n",
    "        for i in np.ndindex(lattice.shape):  # Duyệt qua tất cả các ô trong lưới\n",
    "            pheromones[i] = lattice[i].pheromone  # Lấy giá trị pheromone từ từng ô trong lưới\n",
    "        return pheromones\n",
    "\n",
    "    def draw_pheromones(self, cmap='YlOrRd'):\n",
    "        \"\"\"\n",
    "        Vẽ các pheromone trên lưới.\n",
    "        :param cmap: Bảng màu để vẽ (mặc định là 'YlOrRd').\n",
    "        :return: Đồ thị vẽ pheromone.\n",
    "        \"\"\"\n",
    "        data = self.pheromones(self.lattice)  # Lấy lưới pheromone\n",
    "        data = data.T  # Chuyển vị lưới pheromone để phù hợp với đồ thị\n",
    "\n",
    "        return plt.imshow(self.pheromones(self.lattice),\n",
    "                          cmap=cmap,  # Áp dụng bảng màu\n",
    "                          vmin=0, vmax=10,  # Giới hạn giá trị pheromone\n",
    "                          interpolation='none', origin='lower', extent=[0, data.shape[1], 0, data.shape[0]])\n",
    "\n",
    "    def animate(self, frames=10, interval=200, filename=None):\n",
    "        \"\"\"\n",
    "        Tạo hoạt ảnh mô phỏng sự tiến hóa của mẫu slime.\n",
    "        :param frames: Số khung hình trong hoạt ảnh.\n",
    "        :param interval: Khoảng thời gian giữa các khung hình (ms).\n",
    "        :param filename: Tên tệp để lưu hoạt ảnh (nếu có).\n",
    "        :return: Đối tượng hoạt ảnh.\n",
    "        \"\"\"\n",
    "        fig = plt.figure(figsize=(6.3, 5))  # Tạo một hình vẽ\n",
    "\n",
    "        im = self.draw_pheromones()  # Vẽ pheromone ban đầu\n",
    "        plt.axis('tight')  # Thiết lập các trục\n",
    "        plt.axis('image')  # Căn chỉnh ảnh\n",
    "        plt.tick_params(which='both',\n",
    "                        bottom=False,\n",
    "                        top=False,\n",
    "                        left=False,\n",
    "                        right=False,\n",
    "                        labelbottom=False,\n",
    "                        labelleft=False)\n",
    "\n",
    "        def func(frame):\n",
    "            self.mould.evolve()  # Tiến hóa mẫu slime\n",
    "            im.set_data(self.pheromones(self.lattice).T)  # Cập nhật dữ liệu pheromone\n",
    "            return [im]\n",
    "\n",
    "        ani = FuncAnimation(fig, func, frames=frames, blit=True, interval=interval)  # Tạo hoạt ảnh\n",
    "        fps = 1 / (interval / 1000)  # Tính toán số khung hình mỗi giây\n",
    "        if filename is not None:\n",
    "            ani.save(filename, dpi=150, writer=PillowWriter(fps=fps))  # Lưu hoạt ảnh vào tệp\n",
    "        return ani\n",
    "\n",
    "    # Các phương thức getter để lấy thông tin từ đối tượng Dish\n",
    "    def get_all_foods_idx(self):\n",
    "        return self.all_foods_idx  # Trả về danh sách các chỉ số thực phẩm\n",
    "\n",
    "    def get_all_foods(self):\n",
    "        return self.all_foods  # Trả về từ điển tất cả thực phẩm\n",
    "\n",
    "    def get_lattice(self):\n",
    "        return self.lattice  # Trả về lưới đĩa\n",
    "\n",
    "    def set_lattice(self, idx, obj):\n",
    "        self.lattice[idx] = obj  # Cập nhật một ô trong lưới\n",
    "\n",
    "    def get_food_nodes(self):\n",
    "        return self.food_graph.nodes()  # Trả về các nút trong đồ thị thực phẩm\n",
    "\n",
    "    def get_food_position(self, food_id):\n",
    "        return self.food_positions[food_id]  # Trả về vị trí của thực phẩm theo ID\n",
    "\n",
    "    def add_food_edge(self, source, target):\n",
    "        self.food_graph.add_edge(source, target)  # Thêm cạnh giữa hai thực phẩm trong đồ thị\n",
    "\n",
    "    def get_food_graph(self):\n",
    "        return self.food_graph  # Trả về đồ thị thực phẩm\n",
    "\n",
    "    def get_dish_size(self):\n",
    "        return self.dish_size  # Trả về kích thước của đĩa\n"
   ],
   "outputs": [],
   "execution_count": 43
  },
  {
   "cell_type": "markdown",
   "metadata": {},
   "source": [
    "### Intialise Dish"
   ]
  },
  {
   "cell_type": "code",
   "metadata": {
    "pycharm": {
     "is_executing": true
    },
    "ExecuteTime": {
     "end_time": "2024-12-18T08:42:47.479744Z",
     "start_time": "2024-12-18T08:42:47.208358Z"
    }
   },
   "source": [
    "# Lấy tọa độ (x, y) của trạm thức ăn thứ 20\n",
    "start_loc = (stations.at[20, 'x'], stations.at[20, 'y'])\n",
    "\n",
    "# Khởi tạo đối tượng 'Dish' với các tham số\n",
    "dish = Dish(\n",
    "    dish_shape=(max(stations.x) + 10, max(stations.y) + 10),  # Kích thước lưới (thêm 10 để có không gian)\n",
    "    foods=stations,  # Dữ liệu thức ăn từ DataFrame 'stations'\n",
    "    start_loc=start_loc,  # Tọa độ bắt đầu của mốc\n",
    "    mould_shape=(5, 5),  # Hình dạng của mốc (5x5)\n",
    "    init_mould_coverage=1,  # Tỷ lệ bao phủ ban đầu của mốc\n",
    "    decay=0.2  # Tốc độ suy giảm của mốc theo thời gian\n",
    ")\n"
   ],
   "outputs": [],
   "execution_count": 44
  },
  {
   "cell_type": "markdown",
   "metadata": {},
   "source": [
    "### Animate 50 steps"
   ]
  },
  {
   "cell_type": "code",
   "metadata": {
    "ExecuteTime": {
     "end_time": "2024-12-18T08:42:56.262843Z",
     "start_time": "2024-12-18T08:42:47.481455Z"
    }
   },
   "source": [
    "dish.animate(frames=50, interval=100, filename=\"output/50steps.gif\")\n",
    "plt.show()"
   ],
   "outputs": [
    {
     "data": {
      "text/plain": [
       "<Figure size 630x500 with 1 Axes>"
      ],
      "image/png": "[encoded data removed]"
     },
     "metadata": {},
     "output_type": "display_data"
    }
   ],
   "execution_count": 45
  },
  {
   "cell_type": "code",
   "metadata": {
    "ExecuteTime": {
     "end_time": "2024-12-18T08:42:56.388072Z",
     "start_time": "2024-12-18T08:42:56.264027Z"
    }
   },
   "source": [
    "# Tạo một hình vẽ với kích thước 6.3x5 inch\n",
    "fig = plt.figure(figsize=(6.3, 5))\n",
    "\n",
    "# Vẽ đồ thị thức ăn từ food_graph, với các vị trí của các thức ăn từ food_positions\n",
    "nx.draw(\n",
    "    dish.food_graph,  # Đồ thị thức ăn\n",
    "    dish.food_positions,  # Vị trí các thức ăn trên lưới\n",
    "    node_color='C1',  # Màu của các nút (thức ăn)\n",
    "    node_shape='s',  # Hình dạng của các nút (hình vuông)\n",
    "    node_size=12,  # Kích thước các nút\n",
    "    with_labels=False  # Không hiển thị nhãn cho các nút\n",
    ")\n",
    "\n",
    "# Lưu hình ảnh vào thư mục output dưới tên 'slime_graph_50steps.png'\n",
    "savefig('output/slime_graph_50steps.png')\n"
   ],
   "outputs": [
    {
     "name": "stdout",
     "output_type": "stream",
     "text": [
      "Saving figure to file output/slime_graph_50steps.png\n"
     ]
    },
    {
     "data": {
      "text/plain": [
       "<Figure size 630x500 with 1 Axes>"
      ],
      "image/png": "[encoded data removed]"
     },
     "metadata": {},
     "output_type": "display_data"
    }
   ],
   "execution_count": 46
  },
  {
   "cell_type": "markdown",
   "metadata": {},
   "source": [
    "### Animate 50 + 100 steps"
   ]
  },
  {
   "cell_type": "code",
   "metadata": {
    "ExecuteTime": {
     "end_time": "2024-12-18T08:43:41.821387Z",
     "start_time": "2024-12-18T08:42:56.389940Z"
    }
   },
   "source": [
    "dish.animate(frames=100, interval=100, filename=\"output/150steps.gif\")\n",
    "plt.show()"
   ],
   "outputs": [
    {
     "data": {
      "text/plain": [
       "<Figure size 630x500 with 1 Axes>"
      ],
      "image/png": "[encoded data removed]"
     },
     "metadata": {},
     "output_type": "display_data"
    }
   ],
   "execution_count": 47
  },
  {
   "cell_type": "code",
   "metadata": {
    "ExecuteTime": {
     "end_time": "2024-12-18T08:43:42.004809Z",
     "start_time": "2024-12-18T08:43:41.824678Z"
    }
   },
   "source": [
    "fig = plt.figure(figsize=(6.3, 5))\n",
    "nx.draw(dish.food_graph, dish.food_positions, \n",
    "        node_color='C1', \n",
    "        node_shape='s', \n",
    "        node_size=12, \n",
    "        with_labels=False)\n",
    "savefig('output/slime_graph_150steps.png')"
   ],
   "outputs": [
    {
     "name": "stdout",
     "output_type": "stream",
     "text": [
      "Saving figure to file output/slime_graph_150steps.png\n"
     ]
    },
    {
     "data": {
      "text/plain": [
       "<Figure size 630x500 with 1 Axes>"
      ],
      "image/png": "[encoded data removed]"
     },
     "metadata": {},
     "output_type": "display_data"
    }
   ],
   "execution_count": 48
  },
  {
   "cell_type": "markdown",
   "metadata": {},
   "source": [
    "### Animate 50 + 100 + 100 steps"
   ]
  },
  {
   "cell_type": "code",
   "metadata": {
    "ExecuteTime": {
     "end_time": "2024-12-18T08:45:00.194607Z",
     "start_time": "2024-12-18T08:43:42.005988Z"
    }
   },
   "source": [
    "dish.animate(frames=100, interval=100, filename=\"output/250steps.gif\")\n",
    "plt.show()"
   ],
   "outputs": [
    {
     "data": {
      "text/plain": [
       "<Figure size 630x500 with 1 Axes>"
      ],
      "image/png": "[encoded data removed]"
     },
     "metadata": {},
     "output_type": "display_data"
    }
   ],
   "execution_count": 49
  },
  {
   "cell_type": "code",
   "metadata": {
    "ExecuteTime": {
     "end_time": "2024-12-18T08:45:00.366002Z",
     "start_time": "2024-12-18T08:45:00.196648Z"
    }
   },
   "source": [
    "nx.draw(dish.food_graph, dish.food_positions, \n",
    "        node_color='C1', \n",
    "        node_shape='s', \n",
    "        node_size=12, \n",
    "        with_labels=False)\n",
    "savefig('output/slime_graph_250steps.png')"
   ],
   "outputs": [
    {
     "name": "stdout",
     "output_type": "stream",
     "text": [
      "Saving figure to file output/slime_graph_250steps.png\n"
     ]
    },
    {
     "data": {
      "text/plain": [
       "<Figure size 640x480 with 1 Axes>"
      ],
      "image/png": "[encoded data removed]"
     },
     "metadata": {},
     "output_type": "display_data"
    }
   ],
   "execution_count": 50
  },
  {
   "cell_type": "markdown",
   "metadata": {},
   "source": [
    "## Graph Analysis"
   ]
  },
  {
   "cell_type": "markdown",
   "metadata": {},
   "source": [
    "### Statistics"
   ]
  },
  {
   "cell_type": "code",
   "metadata": {
    "ExecuteTime": {
     "end_time": "2024-12-18T08:45:00.382219Z",
     "start_time": "2024-12-18T08:45:00.367998Z"
    }
   },
   "source": [
    "# In ra hệ số phân cụm của đồ thị\n",
    "print('Clustering coefficient:')\n",
    "# Tính và in ra hệ số phân cụm của đồ thị gốc\n",
    "print('Original graph: ' + str(clustering_coefficient(G)))\n",
    "# Tính và in ra hệ số phân cụm của đồ thị đã được kết nối bởi slime mould\n",
    "print('Graph connected by slime mould: ' + str(clustering_coefficient(dish.get_food_graph())))\n",
    "print()\n",
    "\n",
    "# In ra chiều dài đường đi đặc trưng của đồ thị\n",
    "print('Path length:')\n",
    "# Tính và in ra chiều dài đường đi đặc trưng của đồ thị gốc\n",
    "print('Original graph: ' + str(characteristic_path_length(G)))\n",
    "# Tính và in ra chiều dài đường đi đặc trưng của đồ thị đã được kết nối bởi slime mould\n",
    "print('Graph connected by slime mould: ' + str(characteristic_path_length(dish.get_food_graph())))\n",
    "print()\n",
    "\n",
    "# In ra số lượng các nút trong đồ thị\n",
    "print('Number of Nodes: ' + str(len(G.nodes)))\n",
    "# In ra số lượng các cạnh trong đồ thị gốc\n",
    "print('Number of edges in the original graph: ' + str(len(G.edges)))\n",
    "# In ra số lượng các cạnh trong đồ thị đã được kết nối bởi slime mould\n",
    "print('Number of edges in the graph connected by slime mould: ' + str(len(dish.get_food_graph().edges)))\n"
   ],
   "outputs": [
    {
     "name": "stdout",
     "output_type": "stream",
     "text": [
      "Clustering coefficient:\n",
      "Original graph: 0.0\n",
      "Graph connected by slime mould: 0.1111111111111111\n",
      "\n",
      "Path length:\n",
      "Original graph: 6.0092592592592595\n",
      "Graph connected by slime mould: 6.955665024630542\n",
      "\n",
      "Number of Nodes: 29\n",
      "Number of edges in the orginal graph: 27\n",
      "Number of edges in the graph connected by slime mould: 30\n"
     ]
    }
   ],
   "execution_count": 51
  },
  {
   "cell_type": "markdown",
   "metadata": {},
   "source": [
    "### PMF in linear scale"
   ]
  },
  {
   "cell_type": "code",
   "metadata": {
    "ExecuteTime": {
     "end_time": "2024-12-18T08:50:02.852897Z",
     "start_time": "2024-12-18T08:50:02.453728Z"
    }
   },
   "source": [
    "# Tạo phân phối xác suất cho đồ thị gốc\n",
    "pmf_original = Pmf.from_seq(degrees(G))\n",
    "# Tạo phân phối xác suất cho đồ thị đã được kết nối bởi slime mould\n",
    "pmf_slime = Pmf.from_seq(degrees(dish.get_food_graph()))\n",
    "\n",
    "# Tạo một biểu đồ với kích thước 8x4\n",
    "plt.figure(figsize=(8, 4))\n",
    "\n",
    "# Vẽ biểu đồ cho đồ thị gốc ở vị trí con trỏ (1,2,1) - Chia đôi đồ thị thành 2 phần ngang\n",
    "plt.subplot(1, 2, 1)\n",
    "# Vẽ phân phối xác suất cho đồ thị gốc với nhãn và màu sắc\n",
    "pmf_original.plot(label='Original Graph', color='C0')\n",
    "# Thêm nhãn cho trục x và y\n",
    "decorate(xlabel='Degree', ylabel='PMF')\n",
    "\n",
    "# Vẽ biểu đồ cho đồ thị slime mould ở vị trí con trỏ (1,2,2)\n",
    "plt.subplot(1, 2, 2)\n",
    "# Vẽ phân phối xác suất cho đồ thị slime mould với nhãn và màu sắc\n",
    "pmf_slime.plot(label='Slime Mould Graph', color='C2')\n",
    "# Thêm nhãn cho trục x\n",
    "decorate(xlabel='Degree')\n",
    "\n",
    "# Lưu ảnh đồ thị vào thư mục output với tên \"pmf.png\"\n",
    "savefig('output/pmf.png')\n"
   ],
   "outputs": [
    {
     "name": "stdout",
     "output_type": "stream",
     "text": [
      "Saving figure to file output/pmf.png\n"
     ]
    },
    {
     "data": {
      "text/plain": [
       "<Figure size 800x400 with 2 Axes>"
      ],
      "image/png": "[encoded data removed]"
     },
     "metadata": {},
     "output_type": "display_data"
    }
   ],
   "execution_count": 53
  },
  {
   "cell_type": "markdown",
   "metadata": {},
   "source": [
    "## Agent Analysis"
   ]
  },
  {
   "cell_type": "markdown",
   "metadata": {},
   "source": [
    "### Average pheromone of active agents"
   ]
  },
  {
   "cell_type": "code",
   "metadata": {
    "ExecuteTime": {
     "end_time": "2024-12-18T08:50:06.877460Z",
     "start_time": "2024-12-18T08:50:06.703459Z"
    }
   },
   "source": [
    "plt.plot(dish.mould.get_avg_ph())\n",
    "decorate(xlabel='Steps', ylabel='Average Pheromone', loc='upper left')\n",
    "savefig('output/avg_ph.png')"
   ],
   "outputs": [
    {
     "name": "stdout",
     "output_type": "stream",
     "text": [
      "Saving figure to file output/avg_ph.png\n"
     ]
    },
    {
     "data": {
      "text/plain": [
       "<Figure size 640x480 with 1 Axes>"
      ],
      "image/png": "[encoded data removed]"
     },
     "metadata": {},
     "output_type": "display_data"
    }
   ],
   "execution_count": 54
  },
  {
   "cell_type": "markdown",
   "metadata": {},
   "source": [
    "### Number of agents"
   ]
  },
  {
   "cell_type": "code",
   "metadata": {
    "ExecuteTime": {
     "end_time": "2024-12-18T08:50:08.575448Z",
     "start_time": "2024-12-18T08:50:08.327733Z"
    }
   },
   "source": [
    "plt.plot(dish.mould.get_total_num(), label='total agent')\n",
    "plt.plot(dish.mould.get_total_active_num(), label='active agent')\n",
    "plt.plot(dish.mould.get_total_inactive_num(), label='inactive agent')\n",
    "decorate(xlabel='Steps', ylabel='Number of Agents', loc='upper left')\n",
    "savefig('output/agent_num.png')"
   ],
   "outputs": [
    {
     "name": "stdout",
     "output_type": "stream",
     "text": [
      "Saving figure to file output/agent_num.png\n"
     ]
    },
    {
     "data": {
      "text/plain": [
       "<Figure size 640x480 with 1 Axes>"
      ],
      "image/png": "[encoded data removed]"
     },
     "metadata": {},
     "output_type": "display_data"
    }
   ],
   "execution_count": 55
  },
  {
   "cell_type": "markdown",
   "metadata": {},
   "source": [
    "### Slime mould coverage ratio"
   ]
  },
  {
   "cell_type": "code",
   "metadata": {
    "ExecuteTime": {
     "end_time": "2024-12-18T08:50:10.371711Z",
     "start_time": "2024-12-18T08:50:10.112621Z"
    }
   },
   "source": [
    "plt.plot(dish.mould.get_coverage_ratio())\n",
    "decorate(xlabel='Steps', ylabel='Coverage Ratio', loc='upper left')\n",
    "savefig('output/cover_ratio.png')"
   ],
   "outputs": [
    {
     "name": "stdout",
     "output_type": "stream",
     "text": [
      "Saving figure to file output/cover_ratio.png\n"
     ]
    },
    {
     "data": {
      "text/plain": [
       "<Figure size 640x480 with 1 Axes>"
      ],
      "image/png": "[encoded data removed]"
     },
     "metadata": {},
     "output_type": "display_data"
    }
   ],
   "execution_count": 56
  },
  {
   "cell_type": "markdown",
   "metadata": {},
   "source": [
    "### Total number of connected food"
   ]
  },
  {
   "cell_type": "code",
   "metadata": {
    "ExecuteTime": {
     "end_time": "2024-12-18T08:50:12.246681Z",
     "start_time": "2024-12-18T08:50:12.054822Z"
    }
   },
   "source": [
    "plt.plot(dish.mould.get_total_reached_foods())\n",
    "decorate(xlabel='Steps', ylabel='Total Connected Food', loc='upper left')\n",
    "savefig('output/connected_food.png')"
   ],
   "outputs": [
    {
     "name": "stdout",
     "output_type": "stream",
     "text": [
      "Saving figure to file output/connected_food.png\n"
     ]
    },
    {
     "data": {
      "text/plain": [
       "<Figure size 640x480 with 1 Axes>"
      ],
      "image/png": "[encoded data removed]"
     },
     "metadata": {},
     "output_type": "display_data"
    }
   ],
   "execution_count": 57
  }
 ],
 "metadata": {
  "kernelspec": {
   "display_name": "slime",
   "language": "python",
   "name": "slime"
  },
  "language_info": {
   "codemirror_mode": {
    "name": "ipython",
    "version": 3
   },
   "file_extension": ".py",
   "mimetype": "text/x-python",
   "name": "python",
   "nbconvert_exporter": "python",
   "pygments_lexer": "ipython3",
   "version": "3.10.6"
  },
  "orig_nbformat": 4,
  "vscode": {
   "interpreter": {
    "hash": "86ca1d4eef2403ef14dc1b66f183a2cdea05998cf956d8396dbd0ed12de77491"
   }
  }
 },
 "nbformat": 4,
 "nbformat_minor": 2
}
